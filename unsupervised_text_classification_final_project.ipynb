{
  "nbformat": 4,
  "nbformat_minor": 0,
  "metadata": {
    "colab": {
      "provenance": [],
      "authorship_tag": "ABX9TyMShlSKVGjBCUEOCgD51X3I",
      "include_colab_link": true
    },
    "kernelspec": {
      "name": "python3",
      "display_name": "Python 3"
    },
    "language_info": {
      "name": "python"
    }
  },
  "cells": [
    {
      "cell_type": "markdown",
      "metadata": {
        "id": "view-in-github",
        "colab_type": "text"
      },
      "source": [
        "<a href=\"https://colab.research.google.com/github/carlosbarrone/public_notebooks/blob/dev/unsupervised_text_classification_final_project.ipynb\" target=\"_parent\"><img src=\"https://colab.research.google.com/assets/colab-badge.svg\" alt=\"Open In Colab\"/></a>"
      ]
    },
    {
      "cell_type": "code",
      "source": [
        "try:\n",
        "  from tqdm import tqdm\n",
        "except Exception as e:\n",
        "  print(f'tqdmNotInstalled_{e}')\n",
        "  !pip install tqdm\n",
        "  from tqdm import tqdm"
      ],
      "metadata": {
        "id": "UATwkXYBFyaJ"
      },
      "execution_count": 1,
      "outputs": []
    },
    {
      "cell_type": "code",
      "execution_count": 2,
      "metadata": {
        "id": "GR2jieEd3V5L"
      },
      "outputs": [],
      "source": [
        "import gzip\n",
        "import json\n",
        "import gc\n",
        "import re\n",
        "import pickle\n",
        "\n",
        "import pandas as pd\n",
        "\n",
        "from collections import defaultdict\n",
        "from google.colab import drive\n",
        "from datetime import date"
      ]
    },
    {
      "cell_type": "code",
      "source": [
        "drive.mount('/content/drive')"
      ],
      "metadata": {
        "colab": {
          "base_uri": "https://localhost:8080/"
        },
        "id": "hlX06tMc4Apt",
        "outputId": "85f11d8b-1d83-4877-8120-0740315a28a4"
      },
      "execution_count": 3,
      "outputs": [
        {
          "output_type": "stream",
          "name": "stdout",
          "text": [
            "Drive already mounted at /content/drive; to attempt to forcibly remount, call drive.mount(\"/content/drive\", force_remount=True).\n"
          ]
        }
      ]
    },
    {
      "cell_type": "code",
      "source": [
        "DATA_FOLDER_PATH = '/content/drive/MyDrive/Colab Notebooks/data'\n",
        "TOTAL_REVIEWS = 5748920\n",
        "TOTAL_PRODUCTS = 1503384"
      ],
      "metadata": {
        "id": "xPlLUX_537gy"
      },
      "execution_count": 4,
      "outputs": []
    },
    {
      "cell_type": "code",
      "source": [
        "all_categories  = defaultdict(lambda: 0)\n",
        "\n",
        "def process_categories(categories: list[list[str]])->list[str]:\n",
        "  categories = list(set([re.sub('[^A-Za-z0-9 ]+','',w.lower().strip()) for category in categories for w in category]))\n",
        "  for c in categories:\n",
        "    all_categories[c] += 1\n",
        "  return ' '.join(' '.join(categories).split())\n",
        "\n",
        "class Review:\n",
        "  def __init__(self, props: dict, index = False) -> None:\n",
        "    try:\n",
        "      self.idx = index\n",
        "      self.reviewer_id = props.get('reviewerID')\n",
        "      self.asin = props.get('asin')\n",
        "      self.reviewer_name = props.get('reviewerName')\n",
        "      self.helpful_0 = props.get('helpful')[0]\n",
        "      self.helpful_1 = props.get('helpful')[1]\n",
        "      self.review_text = props.get('reviewText')\n",
        "      self.overall = props.get('overall')\n",
        "      self.summary = props.get('summary')\n",
        "      self.unix_review_time = props.get('unixReviewTime')\n",
        "      self.review_time = date.fromtimestamp(self.unix_review_time)\n",
        "    except Exception as e:\n",
        "      print(e)\n",
        "\n",
        "  def to_dict(self):\n",
        "    return self.__dict__\n",
        "\n",
        "class Product_Metadata:\n",
        "  def __init__(self, props: dict, index = False) -> None:\n",
        "    cat = process_categories(props.get('categories'))\n",
        "    sr = props.get('salesRank')\n",
        "    try:\n",
        "      if sr:\n",
        "        ranking_categories = list(props['salesRank'].keys())\n",
        "        self.primary_category = re.sub('[^A-Za-z0-9 ]','',list(props['salesRank'].keys())[0])\n",
        "        self.sales_rank = props['salesRank'][list(props['salesRank'].keys())[0]]\n",
        "      else:\n",
        "        self.primary_category = None\n",
        "        self.sales_rank = None\n",
        "      self.idx = index\n",
        "      self.asin = props.get('asin')\n",
        "      self.brand = props.get('brand')\n",
        "      self.title = props.get('title')\n",
        "      self.price = props.get('price')\n",
        "      self.categories = cat\n",
        "\n",
        "    except Exception as e:\n",
        "      print(e)\n",
        "\n",
        "  def to_dict(self):\n",
        "    return self.__dict__\n",
        "\n",
        "def build_reviews_df(load_path: str, save_path: str = False)->pd.DataFrame:\n",
        "  reviews = []\n",
        "  with gzip.open(load_path, 'r') as file:\n",
        "    print('Loading data...')\n",
        "    for idx, r in enumerate(tqdm(file, total=TOTAL_REVIEWS)):\n",
        "      try:\n",
        "          review = Review(json.loads(r), idx).to_dict()\n",
        "          reviews.append(review)\n",
        "      except KeyboardInterrupt as ki:\n",
        "        return pd.DataFrame(reviews)\n",
        "      except Exception as e:\n",
        "        print(e,type(e))\n",
        "    print('Loading data done.')\n",
        "    print('Building Data Frame...')\n",
        "    final_df: pd.DataFrame = pd.DataFrame(reviews)\n",
        "    print('Building Data Frame done.')\n",
        "    if save_path:\n",
        "      print('Writing CSV to drive...')\n",
        "      try:\n",
        "        final_df.to_csv(save_path, index=False)\n",
        "        print('Data Frame written to google drive.')\n",
        "      except Exception as e:\n",
        "        print('build_reviews_df:ERROR_WRITING_FILE:',e)\n",
        "    del reviews\n",
        "    return final_df\n",
        "\n",
        "def build_product_metadata_df(load_path: str, save_path: str = False)->pd.DataFrame:\n",
        "  products = []\n",
        "  with gzip.open(load_path, 'r') as file:\n",
        "    print('Loading data...')\n",
        "    for idx, p in enumerate(tqdm(file, total=TOTAL_PRODUCTS)):\n",
        "      try:\n",
        "          product = Product_Metadata(json.loads(p), idx).to_dict()\n",
        "          products.append(product)\n",
        "      except KeyboardInterrupt as ki:\n",
        "        return pd.DataFrame(products)\n",
        "      except Exception as e:\n",
        "        print(e,type(e))\n",
        "    print('Loading data done.')\n",
        "    print('Building Data Frame...')\n",
        "    final_df: pd.DataFrame = pd.DataFrame(products)\n",
        "    print('Building Data Frame done.')\n",
        "    if save_path:\n",
        "      print('Writing CSV to drive...')\n",
        "      try:\n",
        "        final_df.to_csv(save_path, index=False)\n",
        "        print('Data Frame written to google drive.')\n",
        "      except Exception as e:\n",
        "        print('build_reviews_df:ERROR_WRITING_FILE:',e)\n",
        "    del products\n",
        "    return final_df"
      ],
      "metadata": {
        "id": "2EXHc-Bq-N5G"
      },
      "execution_count": 16,
      "outputs": []
    },
    {
      "cell_type": "code",
      "source": [
        "try:\n",
        "  print('Reading from Google Drive...')\n",
        "  reviews_df = pd.read_csv(f'{DATA_FOLDER_PATH}/reviews_Clothing_Shoes_and_Jewelry.csv')\n",
        "except FileNotFoundError as e:\n",
        "  print('File does not exist, building reviews Data Frame...')\n",
        "  reviews_df = build_reviews_df(\n",
        "      f'{DATA_FOLDER_PATH}/reviews_Clothing_Shoes_and_Jewelry.json.gz',\n",
        "      f'{DATA_FOLDER_PATH}/reviews_Clothing_Shoes_and_Jewelry.csv',\n",
        "  )\n",
        "except Exception as e:\n",
        "  print(e,type(e))"
      ],
      "metadata": {
        "colab": {
          "base_uri": "https://localhost:8080/"
        },
        "id": "u25abB6b5qbQ",
        "outputId": "284fc778-14b5-43ea-cc14-20bd1dd7eda1"
      },
      "execution_count": 6,
      "outputs": [
        {
          "output_type": "stream",
          "name": "stdout",
          "text": [
            "Reading from Google Drive...\n"
          ]
        }
      ]
    },
    {
      "cell_type": "code",
      "source": [
        "try:\n",
        "  print('Reading from Google Drive...')\n",
        "  products_df = pd.read_csv(f'{DATA_FOLDER_PATH}/metadata_Clothing_Shoes_and_Jewelry.csv')\n",
        "except FileNotFoundError as e:\n",
        "  print('File does not exist, building reviews Data Frame...')\n",
        "  products_df = build_product_metadata_df(\n",
        "      f'{DATA_FOLDER_PATH}/metadata_Clothing_Shoes_and_Jewelry.jsonl.gz',\n",
        "      f'{DATA_FOLDER_PATH}/metadata_Clothing_Shoes_and_Jewelry.csv',\n",
        "  )\n",
        "except Exception as e:\n",
        "  print(e,type(e))"
      ],
      "metadata": {
        "colab": {
          "base_uri": "https://localhost:8080/"
        },
        "id": "3DKWoUqV8ACE",
        "outputId": "c0e39ea1-6b6b-4ee5-884b-98d3f1660344"
      },
      "execution_count": 17,
      "outputs": [
        {
          "output_type": "stream",
          "name": "stdout",
          "text": [
            "Reading from Google Drive...\n",
            "File does not exist, building reviews Data Frame...\n",
            "Loading data...\n"
          ]
        },
        {
          "output_type": "stream",
          "name": "stderr",
          "text": [
            "100%|██████████| 1503384/1503384 [01:23<00:00, 17980.95it/s]\n"
          ]
        },
        {
          "output_type": "stream",
          "name": "stdout",
          "text": [
            "Loading data done.\n",
            "Building Data Frame...\n",
            "Building Data Frame done.\n",
            "Writing CSV to drive...\n",
            "Data Frame written to google drive.\n"
          ]
        }
      ]
    },
    {
      "cell_type": "code",
      "source": [
        "try:\n",
        "  with open(f'{DATA_FOLDER_PATH}/metadata_all_categories_clothing_shoes_jewelry.pickle', 'rb') as f:\n",
        "    pickle.load(f)\n",
        "except FileNotFoundError as e:\n",
        "  print('File does not exist, building reviews Data Frame...')\n",
        "  with open(f'{DATA_FOLDER_PATH}/metadata_all_categories_clothing_shoes_jewelry.pickle', 'wb+') as f:\n",
        "    pickle.dump(dict(all_categories), f, protocol=pickle.HIGHEST_PROTOCOL)"
      ],
      "metadata": {
        "id": "pPbcVYLvgC-5"
      },
      "execution_count": 19,
      "outputs": []
    },
    {
      "cell_type": "code",
      "source": [
        "nike_top_3000_asins = list(set(products_df[(products_df.categories.str.contains('nike')) & (products_df.sales_rank <= 3000)].asin))\n",
        "reviews_df.asin.isin(nike_top_3000_asins).sum()"
      ],
      "metadata": {
        "colab": {
          "base_uri": "https://localhost:8080/"
        },
        "id": "HK-o0B1p1JRm",
        "outputId": "00756451-b1e1-458b-a33b-2900dd174ef8"
      },
      "execution_count": 83,
      "outputs": [
        {
          "output_type": "execute_result",
          "data": {
            "text/plain": [
              "3549"
            ]
          },
          "metadata": {},
          "execution_count": 83
        }
      ]
    }
  ]
}