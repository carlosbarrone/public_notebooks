{
  "cells": [
    {
      "cell_type": "markdown",
      "metadata": {
        "id": "view-in-github",
        "colab_type": "text"
      },
      "source": [
        "<a href=\"https://colab.research.google.com/github/carlosbarrone/public_notebooks/blob/main/movie_genre_predictor.ipynb\" target=\"_parent\"><img src=\"https://colab.research.google.com/assets/colab-badge.svg\" alt=\"Open In Colab\"/></a>"
      ]
    },
    {
      "cell_type": "code",
      "execution_count": null,
      "id": "82f4cbc6",
      "metadata": {
        "id": "82f4cbc6",
        "outputId": "57f89e84-2553-4908-ef12-21e58e76c754"
      },
      "outputs": [
        {
          "name": "stderr",
          "output_type": "stream",
          "text": [
            "[nltk_data] Downloading package stopwords to\n",
            "[nltk_data]     /Users/carlos_barron/nltk_data...\n",
            "[nltk_data]   Package stopwords is already up-to-date!\n"
          ]
        }
      ],
      "source": [
        "import pandas as pd\n",
        "import numpy as np\n",
        "import seaborn as sns\n",
        "import matplotlib.pyplot as plt\n",
        "\n",
        "import nltk\n",
        "from nltk.corpus import stopwords\n",
        "nltk.download('stopwords')\n",
        "import re\n",
        "\n",
        "from sklearn.model_selection import train_test_split\n",
        "\n",
        "from keras.models import Sequential\n",
        "\n",
        "from tensorflow.keras.optimizers import Adam\n",
        "#from tensorflow.keras.optimizers.legacy import Adam\n",
        "from tensorflow.keras.layers import LSTM, GRU, Dense, Embedding, Dropout, GlobalAveragePooling1D, Flatten, GlobalMaxPool1D, Dropout, Bidirectional, TextVectorization\n",
        "from tensorflow.keras.models import Sequential\n",
        "from tensorflow.keras.callbacks import EarlyStopping, ReduceLROnPlateau\n",
        "from keras.preprocessing.text import Tokenizer\n",
        "from keras.preprocessing.sequence import pad_sequences\n",
        "from keras.models import Sequential\n",
        "from keras.layers import Dense, Embedding, GlobalMaxPool1D\n",
        "import tensorflow as tf"
      ]
    },
    {
      "cell_type": "markdown",
      "id": "797584ab",
      "metadata": {
        "id": "797584ab"
      },
      "source": [
        "# Project Introduction\n",
        "\n",
        "This project is about predicting the genres of a movie from a given title and synopsis. I will primarily use a deep learning approach to solving this challenge and use techniques like word embedding, natural language processing.\n",
        "\n",
        "# Data Source\n",
        "The dataset I will use to train and test my model can be found in here:\n",
        "https://www.kaggle.com/datasets/dk123891/10000-movies-data\n",
        "\n",
        "It contains the information of IMDb's top 10,000 rated movies, and it was scraped from the website.\n",
        "\n",
        "Here is a sample:"
      ]
    },
    {
      "cell_type": "code",
      "execution_count": null,
      "id": "fc341386",
      "metadata": {
        "id": "fc341386",
        "outputId": "d0911716-ea29-4e88-d2e6-f7df69323535"
      },
      "outputs": [
        {
          "data": {
            "text/html": [
              "<div>\n",
              "<style scoped>\n",
              "    .dataframe tbody tr th:only-of-type {\n",
              "        vertical-align: middle;\n",
              "    }\n",
              "\n",
              "    .dataframe tbody tr th {\n",
              "        vertical-align: top;\n",
              "    }\n",
              "\n",
              "    .dataframe thead th {\n",
              "        text-align: right;\n",
              "    }\n",
              "</style>\n",
              "<table border=\"1\" class=\"dataframe\">\n",
              "  <thead>\n",
              "    <tr style=\"text-align: right;\">\n",
              "      <th></th>\n",
              "      <th>Unnamed: 0</th>\n",
              "      <th>Movie Name</th>\n",
              "      <th>Year of Release</th>\n",
              "      <th>Run Time in minutes</th>\n",
              "      <th>Movie Rating</th>\n",
              "      <th>Votes</th>\n",
              "      <th>MetaScore</th>\n",
              "      <th>Gross</th>\n",
              "      <th>Genre</th>\n",
              "      <th>Certification</th>\n",
              "      <th>Director</th>\n",
              "      <th>Stars</th>\n",
              "      <th>Description</th>\n",
              "    </tr>\n",
              "  </thead>\n",
              "  <tbody>\n",
              "    <tr>\n",
              "      <th>458</th>\n",
              "      <td>458</td>\n",
              "      <td>Innocence</td>\n",
              "      <td>1997</td>\n",
              "      <td>110</td>\n",
              "      <td>8.1</td>\n",
              "      <td>18861</td>\n",
              "      <td>NaN</td>\n",
              "      <td>NaN</td>\n",
              "      <td>['Drama']</td>\n",
              "      <td>NaN</td>\n",
              "      <td>['Zeki Demirkubuz']</td>\n",
              "      <td>['Güven Kiraç', 'Haluk Bilginer', 'Derya Alabo...</td>\n",
              "      <td>['Yusuf', 'is', 'released', 'from', 'prison', ...</td>\n",
              "    </tr>\n",
              "    <tr>\n",
              "      <th>6049</th>\n",
              "      <td>6049</td>\n",
              "      <td>Against the Ice</td>\n",
              "      <td>2022</td>\n",
              "      <td>102</td>\n",
              "      <td>6.5</td>\n",
              "      <td>26638</td>\n",
              "      <td>49.0</td>\n",
              "      <td>NaN</td>\n",
              "      <td>['Adventure', ' Drama', ' History']</td>\n",
              "      <td>TV-MA</td>\n",
              "      <td>['Peter Flinth']</td>\n",
              "      <td>['Nikolaj Coster-Waldau', 'Joe Cole', 'Heida R...</td>\n",
              "      <td>['In', '1909,', 'two', 'explorers', 'fight', '...</td>\n",
              "    </tr>\n",
              "  </tbody>\n",
              "</table>\n",
              "</div>"
            ],
            "text/plain": [
              "      Unnamed: 0       Movie Name  Year of Release  Run Time in minutes  \\\n",
              "458          458        Innocence             1997                  110   \n",
              "6049        6049  Against the Ice             2022                  102   \n",
              "\n",
              "      Movie Rating  Votes  MetaScore  Gross  \\\n",
              "458            8.1  18861        NaN    NaN   \n",
              "6049           6.5  26638       49.0    NaN   \n",
              "\n",
              "                                    Genre Certification             Director  \\\n",
              "458                             ['Drama']           NaN  ['Zeki Demirkubuz']   \n",
              "6049  ['Adventure', ' Drama', ' History']         TV-MA     ['Peter Flinth']   \n",
              "\n",
              "                                                  Stars  \\\n",
              "458   ['Güven Kiraç', 'Haluk Bilginer', 'Derya Alabo...   \n",
              "6049  ['Nikolaj Coster-Waldau', 'Joe Cole', 'Heida R...   \n",
              "\n",
              "                                            Description  \n",
              "458   ['Yusuf', 'is', 'released', 'from', 'prison', ...  \n",
              "6049  ['In', '1909,', 'two', 'explorers', 'fight', '...  "
            ]
          },
          "execution_count": 2,
          "metadata": {},
          "output_type": "execute_result"
        }
      ],
      "source": [
        "data_path = './data/IMDB_10000_MOVIES/'\n",
        "df = pd.read_csv(f'{data_path}/DATA.CSV')\n",
        "df.sample(2)"
      ]
    },
    {
      "cell_type": "markdown",
      "id": "ba4fb009",
      "metadata": {
        "id": "ba4fb009"
      },
      "source": [
        "# EDA"
      ]
    },
    {
      "cell_type": "code",
      "execution_count": null,
      "id": "937b3c2c",
      "metadata": {
        "id": "937b3c2c",
        "outputId": "5d7cbb0f-ff60-4fd7-ac5c-a5dc0087d813"
      },
      "outputs": [
        {
          "name": "stdout",
          "output_type": "stream",
          "text": [
            "<class 'pandas.core.frame.DataFrame'>\n",
            "RangeIndex: 10000 entries, 0 to 9999\n",
            "Data columns (total 13 columns):\n",
            " #   Column               Non-Null Count  Dtype  \n",
            "---  ------               --------------  -----  \n",
            " 0   Unnamed: 0           10000 non-null  int64  \n",
            " 1   Movie Name           10000 non-null  object \n",
            " 2   Year of Release      10000 non-null  int64  \n",
            " 3   Run Time in minutes  10000 non-null  int64  \n",
            " 4   Movie Rating         10000 non-null  float64\n",
            " 5   Votes                10000 non-null  int64  \n",
            " 6   MetaScore            7974 non-null   float64\n",
            " 7   Gross                7085 non-null   float64\n",
            " 8   Genre                10000 non-null  object \n",
            " 9   Certification        9631 non-null   object \n",
            " 10  Director             10000 non-null  object \n",
            " 11  Stars                10000 non-null  object \n",
            " 12  Description          10000 non-null  object \n",
            "dtypes: float64(3), int64(4), object(6)\n",
            "memory usage: 1015.8+ KB\n"
          ]
        }
      ],
      "source": [
        "df.info()"
      ]
    },
    {
      "cell_type": "markdown",
      "id": "0c0b9fe1",
      "metadata": {
        "id": "0c0b9fe1"
      },
      "source": [
        "The dataset contains 10,000 rows, and 12 columns (+ Index), I will be focusing on the movie title, genre and description (synopsis).\n",
        "\n",
        "The underlying data for each are strings, and the genre specifically is composed by lists of strings, since each movie can be labeled for more than one genre. This is very important to consider for the selection of the model, it's architecture, hyperparameters, metrics and loss calculation. This information can be found on later sections.\n",
        "\n",
        "The class below build is used for EDA and preprocessing."
      ]
    },
    {
      "cell_type": "code",
      "execution_count": null,
      "id": "5e32461d",
      "metadata": {
        "id": "5e32461d"
      },
      "outputs": [],
      "source": [
        "stopwords = stopwords.words('english')\n",
        "\n",
        "def build_validation_graph(history, model_name: str = ''):\n",
        "    plt.plot(history.history['auc'])\n",
        "    plt.plot(history.history['val_auc'])\n",
        "    plt.title(f'Model AUC {model_name}')\n",
        "    plt.ylabel('AUC')\n",
        "    plt.xlabel('Epoch')\n",
        "    plt.legend(['Train', 'Test'], loc='upper left')\n",
        "    plt.show()\n",
        "    plt.plot(history.history['loss'])\n",
        "    plt.plot(history.history['val_loss'])\n",
        "    plt.title('Model loss')\n",
        "    plt.ylabel('Loss')\n",
        "    plt.xlabel('Epochs')\n",
        "    plt.legend(['Train', 'Test'], loc='upper left')\n",
        "    plt.show()\n",
        "\n",
        "def build_encoder(df: pd.DataFrame, vocabulary_size: int, max_len: int):\n",
        "    encoder = TextVectorization(\n",
        "        max_tokens=vocabulary_size,\n",
        "        output_mode='int',\n",
        "        output_sequence_length=max_len\n",
        "    )\n",
        "    encoder.adapt(df.to_list())\n",
        "    return encoder\n",
        "\n",
        "def build_tokenizer(df: pd.DataFrame, vocabulary_size: int, max_len: int):\n",
        "    tokenizer = Tokenizer(num_words=vocab_size)\n",
        "    tokenizer.fit_on_texts(df)\n",
        "    sequences = tokenizer.texts_to_sequences(df)\n",
        "    return pad_sequences(sequences, maxlen=max_len)\n",
        "\n",
        "class Project_Data:\n",
        "    def __init__(self, raw_df: pd.DataFrame, seed:int, use_stop_words: bool)->None:\n",
        "        self.df = self.process_df(raw_df)\n",
        "        self.all_genres = self.get_all_genres()\n",
        "        self.df[self.all_genres] = self.df.genre.apply(lambda genres: np.isin(self.all_genres, genres)).to_list()\n",
        "        self.df = self.df.drop(['genre'], axis=1).astype(\n",
        "            {g:'int8' for g in self.all_genres}\n",
        "        )\n",
        "        self.df_text_metrics = pd.DataFrame({\n",
        "            'text_length': self.df.text.str.len(),\n",
        "            'num_words': self.df.text.str.split(' ').apply(len)\n",
        "        })\n",
        "        self.max_text_length = self.df.text.str.split(' ').apply(len).max()\n",
        "        X = self.df['text']\n",
        "        X_wsw = self.df['text'].apply(lambda x: ' '.join([word for word in x.split() if word not in (stopwords)]))\n",
        "        y = self.df.iloc[:,3:]\n",
        "        if use_stop_words:\n",
        "            self.X_train, self.X_test, self.y_train, self.y_test = train_test_split(X_wsw, y, test_size=0.05, random_state=seed)\n",
        "        else:\n",
        "            self.X_train, self.X_test, self.y_train, self.y_test = train_test_split(X, y, test_size=0.05, random_state=seed)\n",
        "\n",
        "    def process_df(self, raw_df: pd.DataFrame):\n",
        "        rgx = r'[^a-zA-Z0-9 ]+'\n",
        "        df = raw_df.rename(columns={\n",
        "            'Movie Name':'title',\n",
        "            'Genre':'genre',\n",
        "            'Description':'description',\n",
        "        }).assign(\n",
        "            title=lambda x: x.title.str.replace(rgx, '', regex=True).str.lower().str.strip(),\n",
        "            synopsis=lambda x: x.description.str.replace(rgx, '', regex=True).str.lower().str.strip(),\n",
        "            genre=lambda x: x.genre.str.replace(r'[^a-zA-Z0-9,]+', '', regex=True).str.split(',')\n",
        "        ).assign(\n",
        "            text=lambda x: x.title + ' ' + x.synopsis\n",
        "        )[['title','synopsis','text','genre']]\n",
        "        return df\n",
        "\n",
        "    def get_all_genres(self):\n",
        "        return list(set([g for l in self.df.genre.to_list() for g in l]))\n",
        "\n",
        "    def preprocess_test_text(self, title:str, synopsis: str, remove_stop_words: bool):\n",
        "        text = title + synopsis\n",
        "        rgx = r'[^a-zA-Z0-9 ]+'\n",
        "        text = re.sub(rgx, '', text)\n",
        "        text = text.lower()\n",
        "        text = text.strip()\n",
        "        if remove_stop_words:\n",
        "            text = ' '.join([w for w in text.split(' ') if w not in stopwords])\n",
        "        return pd.Series([text])\n",
        "\n",
        "    def get_prediction_genres(self, predictions, threshold):\n",
        "        genres = []\n",
        "        for (p, g) in zip(predictions[0], self.all_genres):\n",
        "            if p>threshold:\n",
        "                genres.append(g)\n",
        "        return genres"
      ]
    },
    {
      "cell_type": "code",
      "execution_count": null,
      "id": "e73e94d5",
      "metadata": {
        "id": "e73e94d5"
      },
      "outputs": [],
      "source": [
        "project_data = Project_Data(df, seed=2023, use_stop_words=False)"
      ]
    },
    {
      "cell_type": "markdown",
      "id": "2934722f",
      "metadata": {
        "id": "2934722f"
      },
      "source": [
        "# NLP and Word Embedding\n",
        "\n",
        "Natural Language Processing (NLP) is an AI sub-field focused on translating speech between computers and human language. Its objective is to enable machines to comprehend, interpret, and produce text or speech.\n",
        "\n",
        "Word embedding is the process of representing words as numerical vectors in a multidimensional space. It is essential for processing and understanding natural language in machine learning applications. Here are some of the most important concepts and parameters:\n",
        "\n",
        "- Word Embedding: Technique that assigns vector representations to words in a text corpus. Very importantly, machine learning algorithms are not capable of processing words, so each word must be converted into vectors of numbers, and each vector captures the semantic and contextual relationships between words in the text corpus, making it easier to understand the meaning of words contextually.\n",
        "\n",
        "- Dimension Space: The size of the vectors. A higher dimension can capture more complex relationships, will also be more computationally expensive.\n",
        "\n",
        "- Window Context: The number of surrounding words that are considered when creating word embeddings. If larger, the long-term relationships are easier to capture, if smaller the context will focus on close relationships.\n",
        "\n",
        "- Embedding Algorithm: Word2Vec, GloVe, FastText, etc. Each of these approaches uses different strategies to capture contextual and semantic information, I will use Tensorflow.\n",
        "\n",
        "- Vocabulary Size: The effectiveness of word embeddings is significantly influenced by the scale and inclusiveness of the training dataset. A greater and more heterogeneous dataset yields superior word representations.\n",
        "\n",
        "- Supervised vs. Unsupervised Training: During supervised training, supplementary text labels (e.g., POS or sentiment tags) can be incorporated to enhance the quality of the embeddings. In contrast, unsupervised training generates embeddings solely based on the text's structural properties.\n",
        "\n",
        "- Fine-Tuning: Subsequent to the creation of word embeddings, they can often be customized for specific machine learning tasks, like text classification or translation.\n",
        "\n",
        "In conclusion, word embeddings constitute a vital technique in natural language processing, converting words into numerical vectors to encapsulate their semantics and context. Fundamental parameters, including dimensionality, context window, and the choice of embedding algorithm, significantly affect the quality and applicability of these representations. These vectors hold a pivotal position in a wide array of machine learning applications related to natural language processing\n",
        "\n",
        "Below, the distribution of the vocabulary size and the length of the synopsis, this will be important to adjust later for the model."
      ]
    },
    {
      "cell_type": "code",
      "execution_count": null,
      "id": "6c54e0c1",
      "metadata": {
        "id": "6c54e0c1",
        "outputId": "822a3005-8469-4d2f-b281-b3ece88c1724"
      },
      "outputs": [
        {
          "data": {
            "image/png": "[encoded data removed]",
            "text/plain": [
              "<Figure size 640x480 with 1 Axes>"
            ]
          },
          "metadata": {},
          "output_type": "display_data"
        },
        {
          "data": {
            "image/png": "[encoded data removed]",
            "text/plain": [
              "<Figure size 640x480 with 1 Axes>"
            ]
          },
          "metadata": {},
          "output_type": "display_data"
        },
        {
          "data": {
            "image/png": "[encoded data removed]",
            "text/plain": [
              "<Figure size 640x480 with 1 Axes>"
            ]
          },
          "metadata": {},
          "output_type": "display_data"
        },
        {
          "data": {
            "image/png": "[encoded data removed]",
            "text/plain": [
              "<Figure size 640x480 with 1 Axes>"
            ]
          },
          "metadata": {},
          "output_type": "display_data"
        }
      ],
      "source": [
        "sns.histplot(data=project_data.df_text_metrics, x=\"text_length\", element=\"poly\")\n",
        "plt.show()\n",
        "sns.histplot(data=project_data.df_text_metrics, x=\"num_words\", element=\"poly\")\n",
        "plt.show()\n",
        "sns.boxplot(data=project_data.df_text_metrics, x=\"text_length\")\n",
        "plt.show()\n",
        "sns.boxplot(data=project_data.df_text_metrics, x=\"num_words\")\n",
        "plt.show()"
      ]
    },
    {
      "cell_type": "code",
      "execution_count": null,
      "id": "aa945bd7",
      "metadata": {
        "id": "aa945bd7",
        "outputId": "89ef0dfa-00a8-470c-8f06-8745d6840d9b"
      },
      "outputs": [
        {
          "data": {
            "image/png": "[encoded data removed]",
            "text/plain": [
              "<Figure size 640x480 with 1 Axes>"
            ]
          },
          "metadata": {},
          "output_type": "display_data"
        }
      ],
      "source": [
        "genre_count = project_data.y_train.sum()\n",
        "counts, genres = genre_count.values, genre_count.index.values\n",
        "plt.pie(counts, labels=genres)\n",
        "plt.show()"
      ]
    },
    {
      "cell_type": "markdown",
      "id": "1928b736",
      "metadata": {
        "id": "1928b736"
      },
      "source": [
        "We can see that the length of the synopsis text is centered in between 120-200 characters, with some outliers. The max text length will be important if we want to truncate the text by length, if we think some length x is enough for the model to capture the genres.\n",
        "\n",
        "The number of words by text is centered in between 20 and 40 with some outliers, this will give us some input on what to choose for the vocabulary size.\n",
        "\n",
        "Then we can also see the distribution of the genres in our dataset."
      ]
    },
    {
      "cell_type": "markdown",
      "id": "5ba56e33",
      "metadata": {
        "id": "5ba56e33"
      },
      "source": [
        "# Data Processing\n",
        "\n",
        "In the Project Data class above we have the following data cleaning operations:\n",
        "- Rename the columns and set as lower case\n",
        "- From the text and title, remove anything that is not a letter, number or space\n",
        "- Trim any empty spaces\n",
        "- Set text as lower case\n",
        "- From the genre, convert from string to list of strings\n",
        "- Get a list of all the genres present in the dataset\n",
        "- Separate and one hot encode each genre as 1 or 0 as separate columns (This will compose the label data frame\n",
        "- Separate training and testing datasets, there will be an additional split, for validation within the tensorflow model.\n",
        "- Create the X_train dataframe with or wothout stopwords, we will compare the results from both"
      ]
    },
    {
      "cell_type": "markdown",
      "id": "16a00737",
      "metadata": {
        "id": "16a00737"
      },
      "source": [
        "# Analysis, Model Selection and Architecture\n",
        "\n",
        "Since we will be processing text, I will attempt to use a Bidirectional LSTM model, but first I will use a regular neural network to have a benchmark."
      ]
    },
    {
      "cell_type": "code",
      "execution_count": null,
      "id": "280b738b",
      "metadata": {
        "id": "280b738b"
      },
      "outputs": [],
      "source": [
        "total_genres = len(project_data.all_genres)\n",
        "vocab_size, max_len, output_dims, model_output_dims = 450, 160, 55, total_genres\n",
        "X_tokenized = build_tokenizer(df=project_data.X_train, vocabulary_size=vocab_size, max_len=max_len)\n",
        "X_tokenized_test = build_tokenizer(df=project_data.X_test, vocabulary_size=vocab_size, max_len=max_len)"
      ]
    },
    {
      "cell_type": "markdown",
      "id": "0195e993",
      "metadata": {
        "id": "0195e993"
      },
      "source": [
        "For this model I will build an embedding layer, maxpool layer, and a final layer with 21 neurons, since the total number of genres is 21."
      ]
    },
    {
      "cell_type": "code",
      "execution_count": null,
      "id": "b0ce5930",
      "metadata": {
        "id": "b0ce5930",
        "outputId": "4539a5de-89ea-4d3e-ac59-8a520956d0a1"
      },
      "outputs": [
        {
          "name": "stdout",
          "output_type": "stream",
          "text": [
            "Number of available GPUs:  1\n",
            "INFO:tensorflow:Using MirroredStrategy with devices ('/job:localhost/replica:0/task:0/device:GPU:0',)\n",
            "Model: \"sequential\"\n",
            "_________________________________________________________________\n",
            " Layer (type)                Output Shape              Param #   \n",
            "=================================================================\n",
            " embedding (Embedding)       (None, 160, 55)           24750     \n",
            "                                                                 \n",
            " global_max_pooling1d (Glob  (None, 55)                0         \n",
            " alMaxPooling1D)                                                 \n",
            "                                                                 \n",
            " dense (Dense)               (None, 21)                1176      \n",
            "                                                                 \n",
            "=================================================================\n",
            "Total params: 25926 (101.27 KB)\n",
            "Trainable params: 25926 (101.27 KB)\n",
            "Non-trainable params: 0 (0.00 Byte)\n",
            "_________________________________________________________________\n"
          ]
        },
        {
          "name": "stderr",
          "output_type": "stream",
          "text": [
            "2023-10-12 16:54:03.661961: I metal_plugin/src/device/metal_device.cc:1154] Metal device set to: Apple M2\n",
            "2023-10-12 16:54:03.662040: I metal_plugin/src/device/metal_device.cc:296] systemMemory: 16.00 GB\n",
            "2023-10-12 16:54:03.662063: I metal_plugin/src/device/metal_device.cc:313] maxCacheSize: 5.33 GB\n",
            "2023-10-12 16:54:03.662183: I tensorflow/core/common_runtime/pluggable_device/pluggable_device_factory.cc:303] Could not identify NUMA node of platform GPU ID 0, defaulting to 0. Your kernel may not have been built with NUMA support.\n",
            "2023-10-12 16:54:03.662241: I tensorflow/core/common_runtime/pluggable_device/pluggable_device_factory.cc:269] Created TensorFlow device (/job:localhost/replica:0/task:0/device:GPU:0 with 0 MB memory) -> physical PluggableDevice (device: 0, name: METAL, pci bus id: <undefined>)\n"
          ]
        }
      ],
      "source": [
        "model_output_dims = len(project_data.all_genres)\n",
        "gpus = tf.config.list_logical_devices('GPU')\n",
        "print(\"Number of available GPUs: \", len(gpus))\n",
        "strategy = tf.distribute.MirroredStrategy(gpus)\n",
        "with strategy.scope():\n",
        "    model = Sequential()\n",
        "    model.add(Embedding(vocab_size, output_dims, input_length=max_len))\n",
        "    model.add(GlobalMaxPool1D())\n",
        "    model.add(Dense(model_output_dims, activation='sigmoid'))\n",
        "    model.compile(optimizer=Adam(0.001), loss='binary_crossentropy', metrics=[tf.keras.metrics.AUC()])\n",
        "model.summary()"
      ]
    },
    {
      "cell_type": "markdown",
      "id": "db411d90",
      "metadata": {
        "id": "db411d90"
      },
      "source": [
        "I played around with the vocabalury size, max length of the text (truncating the text), the vector size. In order not to underfit I used the adam optimizer with the standard learning rate and some callbacks to adjust the learning rate and implementing early stopping, with different parameters:\n",
        "- Patience set to 6 epochs\n",
        "- Restore best weights to get the best overall results\n",
        "- A factor of 0.1 to decrease learning rate\n",
        "- Patience of 2 epochs for the learning rate adjustment to kick in\n",
        "- A very small learning rate min\n",
        "- Total Epochs = 20"
      ]
    },
    {
      "cell_type": "code",
      "execution_count": null,
      "id": "b5fbda4a",
      "metadata": {
        "id": "b5fbda4a",
        "outputId": "598affd3-a039-4083-c6c4-90ab84c0793c"
      },
      "outputs": [
        {
          "name": "stdout",
          "output_type": "stream",
          "text": [
            "Epoch 1/20\n",
            "INFO:tensorflow:Reduce to /job:localhost/replica:0/task:0/device:CPU:0 then broadcast to ('/job:localhost/replica:0/task:0/device:CPU:0',).\n",
            "INFO:tensorflow:Reduce to /job:localhost/replica:0/task:0/device:CPU:0 then broadcast to ('/job:localhost/replica:0/task:0/device:CPU:0',).\n",
            "INFO:tensorflow:Reduce to /job:localhost/replica:0/task:0/device:CPU:0 then broadcast to ('/job:localhost/replica:0/task:0/device:CPU:0',).\n",
            "INFO:tensorflow:Reduce to /job:localhost/replica:0/task:0/device:CPU:0 then broadcast to ('/job:localhost/replica:0/task:0/device:CPU:0',).\n",
            "INFO:tensorflow:Reduce to /job:localhost/replica:0/task:0/device:CPU:0 then broadcast to ('/job:localhost/replica:0/task:0/device:CPU:0',).\n",
            "INFO:tensorflow:Reduce to /job:localhost/replica:0/task:0/device:CPU:0 then broadcast to ('/job:localhost/replica:0/task:0/device:CPU:0',).\n",
            "INFO:tensorflow:Reduce to /job:localhost/replica:0/task:0/device:CPU:0 then broadcast to ('/job:localhost/replica:0/task:0/device:CPU:0',).\n",
            "INFO:tensorflow:Reduce to /job:localhost/replica:0/task:0/device:CPU:0 then broadcast to ('/job:localhost/replica:0/task:0/device:CPU:0',).\n",
            "INFO:tensorflow:Reduce to /job:localhost/replica:0/task:0/device:CPU:0 then broadcast to ('/job:localhost/replica:0/task:0/device:CPU:0',).\n",
            "INFO:tensorflow:Reduce to /job:localhost/replica:0/task:0/device:CPU:0 then broadcast to ('/job:localhost/replica:0/task:0/device:CPU:0',).\n"
          ]
        },
        {
          "name": "stderr",
          "output_type": "stream",
          "text": [
            "2023-10-12 16:54:14.504276: I tensorflow/core/grappler/optimizers/custom_graph_optimizer_registry.cc:114] Plugin optimizer for device_type GPU is enabled.\n",
            "2023-10-12 16:54:14.506671: I tensorflow/core/grappler/optimizers/custom_graph_optimizer_registry.cc:114] Plugin optimizer for device_type GPU is enabled.\n",
            "2023-10-12 16:54:14.688774: I tensorflow/core/grappler/optimizers/custom_graph_optimizer_registry.cc:114] Plugin optimizer for device_type GPU is enabled.\n"
          ]
        },
        {
          "name": "stdout",
          "output_type": "stream",
          "text": [
            "238/238 [==============================] - ETA: 0s - loss: 0.4449 - auc: 0.6510"
          ]
        },
        {
          "name": "stderr",
          "output_type": "stream",
          "text": [
            "2023-10-12 16:54:19.426615: I tensorflow/core/grappler/optimizers/custom_graph_optimizer_registry.cc:114] Plugin optimizer for device_type GPU is enabled.\n",
            "2023-10-12 16:54:19.428905: I tensorflow/core/grappler/optimizers/custom_graph_optimizer_registry.cc:114] Plugin optimizer for device_type GPU is enabled.\n",
            "2023-10-12 16:54:19.494369: I tensorflow/core/grappler/optimizers/custom_graph_optimizer_registry.cc:114] Plugin optimizer for device_type GPU is enabled.\n"
          ]
        },
        {
          "name": "stdout",
          "output_type": "stream",
          "text": [
            "238/238 [==============================] - 5s 21ms/step - loss: 0.4449 - auc: 0.6510 - val_loss: 0.3068 - val_auc: 0.8049 - lr: 0.0010\n",
            "Epoch 2/20\n",
            "238/238 [==============================] - ETA: 0s - loss: 0.3004 - auc: 0.8073"
          ]
        },
        {
          "name": "stderr",
          "output_type": "stream",
          "text": [
            "2023-10-12 16:54:24.564939: I tensorflow/core/grappler/optimizers/custom_graph_optimizer_registry.cc:114] Plugin optimizer for device_type GPU is enabled.\n",
            "2023-10-12 16:54:24.567293: I tensorflow/core/grappler/optimizers/custom_graph_optimizer_registry.cc:114] Plugin optimizer for device_type GPU is enabled.\n"
          ]
        },
        {
          "name": "stdout",
          "output_type": "stream",
          "text": [
            "238/238 [==============================] - 5s 21ms/step - loss: 0.3004 - auc: 0.8073 - val_loss: 0.2984 - val_auc: 0.8130 - lr: 0.0010\n",
            "Epoch 3/20\n",
            "238/238 [==============================] - ETA: 0s - loss: 0.2963 - auc: 0.8150"
          ]
        },
        {
          "name": "stderr",
          "output_type": "stream",
          "text": [
            "2023-10-12 16:54:29.475608: I tensorflow/core/grappler/optimizers/custom_graph_optimizer_registry.cc:114] Plugin optimizer for device_type GPU is enabled.\n",
            "2023-10-12 16:54:29.478078: I tensorflow/core/grappler/optimizers/custom_graph_optimizer_registry.cc:114] Plugin optimizer for device_type GPU is enabled.\n"
          ]
        },
        {
          "name": "stdout",
          "output_type": "stream",
          "text": [
            "238/238 [==============================] - 5s 21ms/step - loss: 0.2963 - auc: 0.8150 - val_loss: 0.2951 - val_auc: 0.8179 - lr: 0.0010\n",
            "Epoch 4/20\n",
            "238/238 [==============================] - ETA: 0s - loss: 0.2922 - auc: 0.8212"
          ]
        },
        {
          "name": "stderr",
          "output_type": "stream",
          "text": [
            "2023-10-12 16:54:34.380479: I tensorflow/core/grappler/optimizers/custom_graph_optimizer_registry.cc:114] Plugin optimizer for device_type GPU is enabled.\n",
            "2023-10-12 16:54:34.382960: I tensorflow/core/grappler/optimizers/custom_graph_optimizer_registry.cc:114] Plugin optimizer for device_type GPU is enabled.\n"
          ]
        },
        {
          "name": "stdout",
          "output_type": "stream",
          "text": [
            "238/238 [==============================] - 5s 21ms/step - loss: 0.2922 - auc: 0.8212 - val_loss: 0.2914 - val_auc: 0.8228 - lr: 0.0010\n",
            "Epoch 5/20\n",
            "236/238 [============================>.] - ETA: 0s - loss: 0.2875 - auc: 0.8278"
          ]
        },
        {
          "name": "stderr",
          "output_type": "stream",
          "text": [
            "2023-10-12 16:54:39.346720: I tensorflow/core/grappler/optimizers/custom_graph_optimizer_registry.cc:114] Plugin optimizer for device_type GPU is enabled.\n",
            "2023-10-12 16:54:39.349134: I tensorflow/core/grappler/optimizers/custom_graph_optimizer_registry.cc:114] Plugin optimizer for device_type GPU is enabled.\n"
          ]
        },
        {
          "name": "stdout",
          "output_type": "stream",
          "text": [
            "238/238 [==============================] - 5s 21ms/step - loss: 0.2874 - auc: 0.8279 - val_loss: 0.2871 - val_auc: 0.8296 - lr: 0.0010\n",
            "Epoch 6/20\n",
            "238/238 [==============================] - ETA: 0s - loss: 0.2828 - auc: 0.8345"
          ]
        },
        {
          "name": "stderr",
          "output_type": "stream",
          "text": [
            "2023-10-12 16:54:44.255762: I tensorflow/core/grappler/optimizers/custom_graph_optimizer_registry.cc:114] Plugin optimizer for device_type GPU is enabled.\n",
            "2023-10-12 16:54:44.258329: I tensorflow/core/grappler/optimizers/custom_graph_optimizer_registry.cc:114] Plugin optimizer for device_type GPU is enabled.\n"
          ]
        },
        {
          "name": "stdout",
          "output_type": "stream",
          "text": [
            "238/238 [==============================] - 5s 21ms/step - loss: 0.2828 - auc: 0.8345 - val_loss: 0.2837 - val_auc: 0.8348 - lr: 0.0010\n",
            "Epoch 7/20\n",
            "238/238 [==============================] - ETA: 0s - loss: 0.2788 - auc: 0.8405"
          ]
        },
        {
          "name": "stderr",
          "output_type": "stream",
          "text": [
            "2023-10-12 16:54:49.632563: I tensorflow/core/grappler/optimizers/custom_graph_optimizer_registry.cc:114] Plugin optimizer for device_type GPU is enabled.\n",
            "2023-10-12 16:54:49.635262: I tensorflow/core/grappler/optimizers/custom_graph_optimizer_registry.cc:114] Plugin optimizer for device_type GPU is enabled.\n"
          ]
        },
        {
          "name": "stdout",
          "output_type": "stream",
          "text": [
            "238/238 [==============================] - 5s 22ms/step - loss: 0.2788 - auc: 0.8405 - val_loss: 0.2815 - val_auc: 0.8376 - lr: 0.0010\n",
            "Epoch 8/20\n",
            "238/238 [==============================] - ETA: 0s - loss: 0.2754 - auc: 0.8451"
          ]
        },
        {
          "name": "stderr",
          "output_type": "stream",
          "text": [
            "2023-10-12 16:54:54.602367: I tensorflow/core/grappler/optimizers/custom_graph_optimizer_registry.cc:114] Plugin optimizer for device_type GPU is enabled.\n",
            "2023-10-12 16:54:54.604862: I tensorflow/core/grappler/optimizers/custom_graph_optimizer_registry.cc:114] Plugin optimizer for device_type GPU is enabled.\n"
          ]
        },
        {
          "name": "stdout",
          "output_type": "stream",
          "text": [
            "238/238 [==============================] - 5s 21ms/step - loss: 0.2754 - auc: 0.8451 - val_loss: 0.2788 - val_auc: 0.8417 - lr: 0.0010\n",
            "Epoch 9/20\n",
            "237/238 [============================>.] - ETA: 0s - loss: 0.2723 - auc: 0.8494"
          ]
        },
        {
          "name": "stderr",
          "output_type": "stream",
          "text": [
            "2023-10-12 16:54:59.608138: I tensorflow/core/grappler/optimizers/custom_graph_optimizer_registry.cc:114] Plugin optimizer for device_type GPU is enabled.\n",
            "2023-10-12 16:54:59.610600: I tensorflow/core/grappler/optimizers/custom_graph_optimizer_registry.cc:114] Plugin optimizer for device_type GPU is enabled.\n"
          ]
        },
        {
          "name": "stdout",
          "output_type": "stream",
          "text": [
            "238/238 [==============================] - 5s 21ms/step - loss: 0.2724 - auc: 0.8492 - val_loss: 0.2770 - val_auc: 0.8443 - lr: 0.0010\n",
            "Epoch 10/20\n",
            "237/238 [============================>.] - ETA: 0s - loss: 0.2697 - auc: 0.8531"
          ]
        },
        {
          "name": "stderr",
          "output_type": "stream",
          "text": [
            "2023-10-12 16:55:04.728028: I tensorflow/core/grappler/optimizers/custom_graph_optimizer_registry.cc:114] Plugin optimizer for device_type GPU is enabled.\n",
            "2023-10-12 16:55:04.730602: I tensorflow/core/grappler/optimizers/custom_graph_optimizer_registry.cc:114] Plugin optimizer for device_type GPU is enabled.\n"
          ]
        },
        {
          "name": "stdout",
          "output_type": "stream",
          "text": [
            "238/238 [==============================] - 5s 22ms/step - loss: 0.2698 - auc: 0.8530 - val_loss: 0.2757 - val_auc: 0.8464 - lr: 0.0010\n",
            "Epoch 11/20\n",
            "238/238 [==============================] - ETA: 0s - loss: 0.2674 - auc: 0.8564"
          ]
        },
        {
          "name": "stderr",
          "output_type": "stream",
          "text": [
            "2023-10-12 16:55:09.807529: I tensorflow/core/grappler/optimizers/custom_graph_optimizer_registry.cc:114] Plugin optimizer for device_type GPU is enabled.\n",
            "2023-10-12 16:55:09.810094: I tensorflow/core/grappler/optimizers/custom_graph_optimizer_registry.cc:114] Plugin optimizer for device_type GPU is enabled.\n"
          ]
        },
        {
          "name": "stdout",
          "output_type": "stream",
          "text": [
            "238/238 [==============================] - 5s 21ms/step - loss: 0.2674 - auc: 0.8564 - val_loss: 0.2744 - val_auc: 0.8481 - lr: 0.0010\n",
            "Epoch 12/20\n",
            "238/238 [==============================] - ETA: 0s - loss: 0.2652 - auc: 0.8592"
          ]
        },
        {
          "name": "stderr",
          "output_type": "stream",
          "text": [
            "2023-10-12 16:55:14.773023: I tensorflow/core/grappler/optimizers/custom_graph_optimizer_registry.cc:114] Plugin optimizer for device_type GPU is enabled.\n",
            "2023-10-12 16:55:14.775540: I tensorflow/core/grappler/optimizers/custom_graph_optimizer_registry.cc:114] Plugin optimizer for device_type GPU is enabled.\n"
          ]
        },
        {
          "name": "stdout",
          "output_type": "stream",
          "text": [
            "238/238 [==============================] - 5s 21ms/step - loss: 0.2652 - auc: 0.8592 - val_loss: 0.2734 - val_auc: 0.8497 - lr: 0.0010\n",
            "Epoch 13/20\n",
            "238/238 [==============================] - ETA: 0s - loss: 0.2632 - auc: 0.8619"
          ]
        },
        {
          "name": "stderr",
          "output_type": "stream",
          "text": [
            "2023-10-12 16:55:19.845768: I tensorflow/core/grappler/optimizers/custom_graph_optimizer_registry.cc:114] Plugin optimizer for device_type GPU is enabled.\n",
            "2023-10-12 16:55:19.848253: I tensorflow/core/grappler/optimizers/custom_graph_optimizer_registry.cc:114] Plugin optimizer for device_type GPU is enabled.\n"
          ]
        },
        {
          "name": "stdout",
          "output_type": "stream",
          "text": [
            "238/238 [==============================] - 5s 21ms/step - loss: 0.2632 - auc: 0.8619 - val_loss: 0.2721 - val_auc: 0.8513 - lr: 0.0010\n",
            "Epoch 14/20\n",
            "238/238 [==============================] - ETA: 0s - loss: 0.2613 - auc: 0.8646"
          ]
        },
        {
          "name": "stderr",
          "output_type": "stream",
          "text": [
            "2023-10-12 16:55:24.815646: I tensorflow/core/grappler/optimizers/custom_graph_optimizer_registry.cc:114] Plugin optimizer for device_type GPU is enabled.\n",
            "2023-10-12 16:55:24.818130: I tensorflow/core/grappler/optimizers/custom_graph_optimizer_registry.cc:114] Plugin optimizer for device_type GPU is enabled.\n"
          ]
        },
        {
          "name": "stdout",
          "output_type": "stream",
          "text": [
            "238/238 [==============================] - 5s 21ms/step - loss: 0.2613 - auc: 0.8646 - val_loss: 0.2714 - val_auc: 0.8523 - lr: 0.0010\n",
            "Epoch 15/20\n",
            "235/238 [============================>.] - ETA: 0s - loss: 0.2595 - auc: 0.8669"
          ]
        },
        {
          "name": "stderr",
          "output_type": "stream",
          "text": [
            "2023-10-12 16:55:29.718763: I tensorflow/core/grappler/optimizers/custom_graph_optimizer_registry.cc:114] Plugin optimizer for device_type GPU is enabled.\n",
            "2023-10-12 16:55:29.721194: I tensorflow/core/grappler/optimizers/custom_graph_optimizer_registry.cc:114] Plugin optimizer for device_type GPU is enabled.\n"
          ]
        },
        {
          "name": "stdout",
          "output_type": "stream",
          "text": [
            "238/238 [==============================] - 5s 20ms/step - loss: 0.2596 - auc: 0.8669 - val_loss: 0.2705 - val_auc: 0.8538 - lr: 0.0010\n",
            "Epoch 16/20\n",
            "238/238 [==============================] - ETA: 0s - loss: 0.2579 - auc: 0.8690"
          ]
        },
        {
          "name": "stderr",
          "output_type": "stream",
          "text": [
            "2023-10-12 16:55:34.614373: I tensorflow/core/grappler/optimizers/custom_graph_optimizer_registry.cc:114] Plugin optimizer for device_type GPU is enabled.\n",
            "2023-10-12 16:55:34.616859: I tensorflow/core/grappler/optimizers/custom_graph_optimizer_registry.cc:114] Plugin optimizer for device_type GPU is enabled.\n"
          ]
        },
        {
          "name": "stdout",
          "output_type": "stream",
          "text": [
            "238/238 [==============================] - 5s 21ms/step - loss: 0.2579 - auc: 0.8690 - val_loss: 0.2699 - val_auc: 0.8547 - lr: 0.0010\n",
            "Epoch 17/20\n",
            "238/238 [==============================] - ETA: 0s - loss: 0.2563 - auc: 0.8713"
          ]
        },
        {
          "name": "stderr",
          "output_type": "stream",
          "text": [
            "2023-10-12 16:55:39.587614: I tensorflow/core/grappler/optimizers/custom_graph_optimizer_registry.cc:114] Plugin optimizer for device_type GPU is enabled.\n",
            "2023-10-12 16:55:39.590046: I tensorflow/core/grappler/optimizers/custom_graph_optimizer_registry.cc:114] Plugin optimizer for device_type GPU is enabled.\n"
          ]
        },
        {
          "name": "stdout",
          "output_type": "stream",
          "text": [
            "238/238 [==============================] - 5s 21ms/step - loss: 0.2563 - auc: 0.8713 - val_loss: 0.2690 - val_auc: 0.8559 - lr: 0.0010\n",
            "Epoch 18/20\n",
            "151/238 [==================>...........] - ETA: 1s - loss: 0.2551 - auc: 0.8723"
          ]
        },
        {
          "ename": "KeyboardInterrupt",
          "evalue": "",
          "output_type": "error",
          "traceback": [
            "\u001b[0;31m---------------------------------------------------------------------------\u001b[0m",
            "\u001b[0;31mKeyboardInterrupt\u001b[0m                         Traceback (most recent call last)",
            "Cell \u001b[0;32mIn [10], line 4\u001b[0m\n\u001b[1;32m      2\u001b[0m early_stop \u001b[38;5;241m=\u001b[39m EarlyStopping(monitor\u001b[38;5;241m=\u001b[39m\u001b[38;5;124m'\u001b[39m\u001b[38;5;124mval_loss\u001b[39m\u001b[38;5;124m'\u001b[39m, patience\u001b[38;5;241m=\u001b[39m\u001b[38;5;241m6\u001b[39m, restore_best_weights\u001b[38;5;241m=\u001b[39m\u001b[38;5;28;01mTrue\u001b[39;00m)\n\u001b[1;32m      3\u001b[0m reduce_lr \u001b[38;5;241m=\u001b[39m ReduceLROnPlateau(monitor\u001b[38;5;241m=\u001b[39m\u001b[38;5;124m'\u001b[39m\u001b[38;5;124mval_loss\u001b[39m\u001b[38;5;124m'\u001b[39m, factor\u001b[38;5;241m=\u001b[39m\u001b[38;5;241m0.1\u001b[39m, patience\u001b[38;5;241m=\u001b[39m\u001b[38;5;241m2\u001b[39m, min_lr\u001b[38;5;241m=\u001b[39m\u001b[38;5;241m0.000000001\u001b[39m)\n\u001b[0;32m----> 4\u001b[0m history \u001b[38;5;241m=\u001b[39m \u001b[43mmodel\u001b[49m\u001b[38;5;241;43m.\u001b[39;49m\u001b[43mfit\u001b[49m\u001b[43m(\u001b[49m\n\u001b[1;32m      5\u001b[0m \u001b[43m    \u001b[49m\u001b[43mX_tokenized\u001b[49m\u001b[43m,\u001b[49m\n\u001b[1;32m      6\u001b[0m \u001b[43m    \u001b[49m\u001b[43mproject_data\u001b[49m\u001b[38;5;241;43m.\u001b[39;49m\u001b[43my_train\u001b[49m\u001b[43m,\u001b[49m\n\u001b[1;32m      7\u001b[0m \u001b[43m    \u001b[49m\u001b[43mepochs\u001b[49m\u001b[38;5;241;43m=\u001b[39;49m\u001b[43mnum_epochs\u001b[49m\u001b[43m,\u001b[49m\n\u001b[1;32m      8\u001b[0m \u001b[43m    \u001b[49m\u001b[43mvalidation_split\u001b[49m\u001b[38;5;241;43m=\u001b[39;49m\u001b[38;5;241;43m0.2\u001b[39;49m\u001b[43m,\u001b[49m\n\u001b[1;32m      9\u001b[0m \u001b[43m    \u001b[49m\u001b[43mcallbacks\u001b[49m\u001b[43m \u001b[49m\u001b[38;5;241;43m=\u001b[39;49m\u001b[43m[\u001b[49m\u001b[43mearly_stop\u001b[49m\u001b[43m,\u001b[49m\u001b[43m \u001b[49m\u001b[43mreduce_lr\u001b[49m\u001b[43m]\u001b[49m\u001b[43m,\u001b[49m\n\u001b[1;32m     10\u001b[0m \u001b[43m    \u001b[49m\u001b[43mverbose\u001b[49m\u001b[38;5;241;43m=\u001b[39;49m\u001b[38;5;241;43m1\u001b[39;49m\n\u001b[1;32m     11\u001b[0m \u001b[43m)\u001b[49m\n",
            "File \u001b[0;32m~/Documents/projects/personal/notebooks/python/jupyter_python_env/lib/python3.9/site-packages/keras/src/utils/traceback_utils.py:65\u001b[0m, in \u001b[0;36mfilter_traceback.<locals>.error_handler\u001b[0;34m(*args, **kwargs)\u001b[0m\n\u001b[1;32m     63\u001b[0m filtered_tb \u001b[38;5;241m=\u001b[39m \u001b[38;5;28;01mNone\u001b[39;00m\n\u001b[1;32m     64\u001b[0m \u001b[38;5;28;01mtry\u001b[39;00m:\n\u001b[0;32m---> 65\u001b[0m     \u001b[38;5;28;01mreturn\u001b[39;00m \u001b[43mfn\u001b[49m\u001b[43m(\u001b[49m\u001b[38;5;241;43m*\u001b[39;49m\u001b[43margs\u001b[49m\u001b[43m,\u001b[49m\u001b[43m \u001b[49m\u001b[38;5;241;43m*\u001b[39;49m\u001b[38;5;241;43m*\u001b[39;49m\u001b[43mkwargs\u001b[49m\u001b[43m)\u001b[49m\n\u001b[1;32m     66\u001b[0m \u001b[38;5;28;01mexcept\u001b[39;00m \u001b[38;5;167;01mException\u001b[39;00m \u001b[38;5;28;01mas\u001b[39;00m e:\n\u001b[1;32m     67\u001b[0m     filtered_tb \u001b[38;5;241m=\u001b[39m _process_traceback_frames(e\u001b[38;5;241m.\u001b[39m__traceback__)\n",
            "File \u001b[0;32m~/Documents/projects/personal/notebooks/python/jupyter_python_env/lib/python3.9/site-packages/keras/src/engine/training.py:1742\u001b[0m, in \u001b[0;36mModel.fit\u001b[0;34m(self, x, y, batch_size, epochs, verbose, callbacks, validation_split, validation_data, shuffle, class_weight, sample_weight, initial_epoch, steps_per_epoch, validation_steps, validation_batch_size, validation_freq, max_queue_size, workers, use_multiprocessing)\u001b[0m\n\u001b[1;32m   1734\u001b[0m \u001b[38;5;28;01mwith\u001b[39;00m tf\u001b[38;5;241m.\u001b[39mprofiler\u001b[38;5;241m.\u001b[39mexperimental\u001b[38;5;241m.\u001b[39mTrace(\n\u001b[1;32m   1735\u001b[0m     \u001b[38;5;124m\"\u001b[39m\u001b[38;5;124mtrain\u001b[39m\u001b[38;5;124m\"\u001b[39m,\n\u001b[1;32m   1736\u001b[0m     epoch_num\u001b[38;5;241m=\u001b[39mepoch,\n\u001b[0;32m   (...)\u001b[0m\n\u001b[1;32m   1739\u001b[0m     _r\u001b[38;5;241m=\u001b[39m\u001b[38;5;241m1\u001b[39m,\n\u001b[1;32m   1740\u001b[0m ):\n\u001b[1;32m   1741\u001b[0m     callbacks\u001b[38;5;241m.\u001b[39mon_train_batch_begin(step)\n\u001b[0;32m-> 1742\u001b[0m     tmp_logs \u001b[38;5;241m=\u001b[39m \u001b[38;5;28;43mself\u001b[39;49m\u001b[38;5;241;43m.\u001b[39;49m\u001b[43mtrain_function\u001b[49m\u001b[43m(\u001b[49m\u001b[43miterator\u001b[49m\u001b[43m)\u001b[49m\n\u001b[1;32m   1743\u001b[0m     \u001b[38;5;28;01mif\u001b[39;00m data_handler\u001b[38;5;241m.\u001b[39mshould_sync:\n\u001b[1;32m   1744\u001b[0m         context\u001b[38;5;241m.\u001b[39masync_wait()\n",
            "File \u001b[0;32m~/Documents/projects/personal/notebooks/python/jupyter_python_env/lib/python3.9/site-packages/tensorflow/python/util/traceback_utils.py:150\u001b[0m, in \u001b[0;36mfilter_traceback.<locals>.error_handler\u001b[0;34m(*args, **kwargs)\u001b[0m\n\u001b[1;32m    148\u001b[0m filtered_tb \u001b[38;5;241m=\u001b[39m \u001b[38;5;28;01mNone\u001b[39;00m\n\u001b[1;32m    149\u001b[0m \u001b[38;5;28;01mtry\u001b[39;00m:\n\u001b[0;32m--> 150\u001b[0m   \u001b[38;5;28;01mreturn\u001b[39;00m \u001b[43mfn\u001b[49m\u001b[43m(\u001b[49m\u001b[38;5;241;43m*\u001b[39;49m\u001b[43margs\u001b[49m\u001b[43m,\u001b[49m\u001b[43m \u001b[49m\u001b[38;5;241;43m*\u001b[39;49m\u001b[38;5;241;43m*\u001b[39;49m\u001b[43mkwargs\u001b[49m\u001b[43m)\u001b[49m\n\u001b[1;32m    151\u001b[0m \u001b[38;5;28;01mexcept\u001b[39;00m \u001b[38;5;167;01mException\u001b[39;00m \u001b[38;5;28;01mas\u001b[39;00m e:\n\u001b[1;32m    152\u001b[0m   filtered_tb \u001b[38;5;241m=\u001b[39m _process_traceback_frames(e\u001b[38;5;241m.\u001b[39m__traceback__)\n",
            "File \u001b[0;32m~/Documents/projects/personal/notebooks/python/jupyter_python_env/lib/python3.9/site-packages/tensorflow/python/eager/polymorphic_function/polymorphic_function.py:825\u001b[0m, in \u001b[0;36mFunction.__call__\u001b[0;34m(self, *args, **kwds)\u001b[0m\n\u001b[1;32m    822\u001b[0m compiler \u001b[38;5;241m=\u001b[39m \u001b[38;5;124m\"\u001b[39m\u001b[38;5;124mxla\u001b[39m\u001b[38;5;124m\"\u001b[39m \u001b[38;5;28;01mif\u001b[39;00m \u001b[38;5;28mself\u001b[39m\u001b[38;5;241m.\u001b[39m_jit_compile \u001b[38;5;28;01melse\u001b[39;00m \u001b[38;5;124m\"\u001b[39m\u001b[38;5;124mnonXla\u001b[39m\u001b[38;5;124m\"\u001b[39m\n\u001b[1;32m    824\u001b[0m \u001b[38;5;28;01mwith\u001b[39;00m OptionalXlaContext(\u001b[38;5;28mself\u001b[39m\u001b[38;5;241m.\u001b[39m_jit_compile):\n\u001b[0;32m--> 825\u001b[0m   result \u001b[38;5;241m=\u001b[39m \u001b[38;5;28;43mself\u001b[39;49m\u001b[38;5;241;43m.\u001b[39;49m\u001b[43m_call\u001b[49m\u001b[43m(\u001b[49m\u001b[38;5;241;43m*\u001b[39;49m\u001b[43margs\u001b[49m\u001b[43m,\u001b[49m\u001b[43m \u001b[49m\u001b[38;5;241;43m*\u001b[39;49m\u001b[38;5;241;43m*\u001b[39;49m\u001b[43mkwds\u001b[49m\u001b[43m)\u001b[49m\n\u001b[1;32m    827\u001b[0m new_tracing_count \u001b[38;5;241m=\u001b[39m \u001b[38;5;28mself\u001b[39m\u001b[38;5;241m.\u001b[39mexperimental_get_tracing_count()\n\u001b[1;32m    828\u001b[0m without_tracing \u001b[38;5;241m=\u001b[39m (tracing_count \u001b[38;5;241m==\u001b[39m new_tracing_count)\n",
            "File \u001b[0;32m~/Documents/projects/personal/notebooks/python/jupyter_python_env/lib/python3.9/site-packages/tensorflow/python/eager/polymorphic_function/polymorphic_function.py:857\u001b[0m, in \u001b[0;36mFunction._call\u001b[0;34m(self, *args, **kwds)\u001b[0m\n\u001b[1;32m    854\u001b[0m   \u001b[38;5;28mself\u001b[39m\u001b[38;5;241m.\u001b[39m_lock\u001b[38;5;241m.\u001b[39mrelease()\n\u001b[1;32m    855\u001b[0m   \u001b[38;5;66;03m# In this case we have created variables on the first call, so we run the\u001b[39;00m\n\u001b[1;32m    856\u001b[0m   \u001b[38;5;66;03m# defunned version which is guaranteed to never create variables.\u001b[39;00m\n\u001b[0;32m--> 857\u001b[0m   \u001b[38;5;28;01mreturn\u001b[39;00m \u001b[38;5;28;43mself\u001b[39;49m\u001b[38;5;241;43m.\u001b[39;49m\u001b[43m_no_variable_creation_fn\u001b[49m\u001b[43m(\u001b[49m\u001b[38;5;241;43m*\u001b[39;49m\u001b[43margs\u001b[49m\u001b[43m,\u001b[49m\u001b[43m \u001b[49m\u001b[38;5;241;43m*\u001b[39;49m\u001b[38;5;241;43m*\u001b[39;49m\u001b[43mkwds\u001b[49m\u001b[43m)\u001b[49m  \u001b[38;5;66;03m# pylint: disable=not-callable\u001b[39;00m\n\u001b[1;32m    858\u001b[0m \u001b[38;5;28;01melif\u001b[39;00m \u001b[38;5;28mself\u001b[39m\u001b[38;5;241m.\u001b[39m_variable_creation_fn \u001b[38;5;129;01mis\u001b[39;00m \u001b[38;5;129;01mnot\u001b[39;00m \u001b[38;5;28;01mNone\u001b[39;00m:\n\u001b[1;32m    859\u001b[0m   \u001b[38;5;66;03m# Release the lock early so that multiple threads can perform the call\u001b[39;00m\n\u001b[1;32m    860\u001b[0m   \u001b[38;5;66;03m# in parallel.\u001b[39;00m\n\u001b[1;32m    861\u001b[0m   \u001b[38;5;28mself\u001b[39m\u001b[38;5;241m.\u001b[39m_lock\u001b[38;5;241m.\u001b[39mrelease()\n",
            "File \u001b[0;32m~/Documents/projects/personal/notebooks/python/jupyter_python_env/lib/python3.9/site-packages/tensorflow/python/eager/polymorphic_function/tracing_compiler.py:148\u001b[0m, in \u001b[0;36mTracingCompiler.__call__\u001b[0;34m(self, *args, **kwargs)\u001b[0m\n\u001b[1;32m    145\u001b[0m \u001b[38;5;28;01mwith\u001b[39;00m \u001b[38;5;28mself\u001b[39m\u001b[38;5;241m.\u001b[39m_lock:\n\u001b[1;32m    146\u001b[0m   (concrete_function,\n\u001b[1;32m    147\u001b[0m    filtered_flat_args) \u001b[38;5;241m=\u001b[39m \u001b[38;5;28mself\u001b[39m\u001b[38;5;241m.\u001b[39m_maybe_define_function(args, kwargs)\n\u001b[0;32m--> 148\u001b[0m \u001b[38;5;28;01mreturn\u001b[39;00m \u001b[43mconcrete_function\u001b[49m\u001b[38;5;241;43m.\u001b[39;49m\u001b[43m_call_flat\u001b[49m\u001b[43m(\u001b[49m\n\u001b[1;32m    149\u001b[0m \u001b[43m    \u001b[49m\u001b[43mfiltered_flat_args\u001b[49m\u001b[43m,\u001b[49m\u001b[43m \u001b[49m\u001b[43mcaptured_inputs\u001b[49m\u001b[38;5;241;43m=\u001b[39;49m\u001b[43mconcrete_function\u001b[49m\u001b[38;5;241;43m.\u001b[39;49m\u001b[43mcaptured_inputs\u001b[49m\u001b[43m)\u001b[49m\n",
            "File \u001b[0;32m~/Documents/projects/personal/notebooks/python/jupyter_python_env/lib/python3.9/site-packages/tensorflow/python/eager/polymorphic_function/monomorphic_function.py:1349\u001b[0m, in \u001b[0;36mConcreteFunction._call_flat\u001b[0;34m(self, args, captured_inputs)\u001b[0m\n\u001b[1;32m   1345\u001b[0m possible_gradient_type \u001b[38;5;241m=\u001b[39m gradients_util\u001b[38;5;241m.\u001b[39mPossibleTapeGradientTypes(args)\n\u001b[1;32m   1346\u001b[0m \u001b[38;5;28;01mif\u001b[39;00m (possible_gradient_type \u001b[38;5;241m==\u001b[39m gradients_util\u001b[38;5;241m.\u001b[39mPOSSIBLE_GRADIENT_TYPES_NONE\n\u001b[1;32m   1347\u001b[0m     \u001b[38;5;129;01mand\u001b[39;00m executing_eagerly):\n\u001b[1;32m   1348\u001b[0m   \u001b[38;5;66;03m# No tape is watching; skip to running the function.\u001b[39;00m\n\u001b[0;32m-> 1349\u001b[0m   \u001b[38;5;28;01mreturn\u001b[39;00m \u001b[38;5;28mself\u001b[39m\u001b[38;5;241m.\u001b[39m_build_call_outputs(\u001b[38;5;28;43mself\u001b[39;49m\u001b[38;5;241;43m.\u001b[39;49m\u001b[43m_inference_function\u001b[49m\u001b[43m(\u001b[49m\u001b[38;5;241;43m*\u001b[39;49m\u001b[43margs\u001b[49m\u001b[43m)\u001b[49m)\n\u001b[1;32m   1350\u001b[0m forward_backward \u001b[38;5;241m=\u001b[39m \u001b[38;5;28mself\u001b[39m\u001b[38;5;241m.\u001b[39m_select_forward_and_backward_functions(\n\u001b[1;32m   1351\u001b[0m     args,\n\u001b[1;32m   1352\u001b[0m     possible_gradient_type,\n\u001b[1;32m   1353\u001b[0m     executing_eagerly)\n\u001b[1;32m   1354\u001b[0m forward_function, args_with_tangents \u001b[38;5;241m=\u001b[39m forward_backward\u001b[38;5;241m.\u001b[39mforward()\n",
            "File \u001b[0;32m~/Documents/projects/personal/notebooks/python/jupyter_python_env/lib/python3.9/site-packages/tensorflow/python/eager/polymorphic_function/atomic_function.py:196\u001b[0m, in \u001b[0;36mAtomicFunction.__call__\u001b[0;34m(self, *args)\u001b[0m\n\u001b[1;32m    194\u001b[0m \u001b[38;5;28;01mwith\u001b[39;00m record\u001b[38;5;241m.\u001b[39mstop_recording():\n\u001b[1;32m    195\u001b[0m   \u001b[38;5;28;01mif\u001b[39;00m \u001b[38;5;28mself\u001b[39m\u001b[38;5;241m.\u001b[39m_bound_context\u001b[38;5;241m.\u001b[39mexecuting_eagerly():\n\u001b[0;32m--> 196\u001b[0m     outputs \u001b[38;5;241m=\u001b[39m \u001b[38;5;28;43mself\u001b[39;49m\u001b[38;5;241;43m.\u001b[39;49m\u001b[43m_bound_context\u001b[49m\u001b[38;5;241;43m.\u001b[39;49m\u001b[43mcall_function\u001b[49m\u001b[43m(\u001b[49m\n\u001b[1;32m    197\u001b[0m \u001b[43m        \u001b[49m\u001b[38;5;28;43mself\u001b[39;49m\u001b[38;5;241;43m.\u001b[39;49m\u001b[43mname\u001b[49m\u001b[43m,\u001b[49m\n\u001b[1;32m    198\u001b[0m \u001b[43m        \u001b[49m\u001b[38;5;28;43mlist\u001b[39;49m\u001b[43m(\u001b[49m\u001b[43margs\u001b[49m\u001b[43m)\u001b[49m\u001b[43m,\u001b[49m\n\u001b[1;32m    199\u001b[0m \u001b[43m        \u001b[49m\u001b[38;5;28;43mlen\u001b[39;49m\u001b[43m(\u001b[49m\u001b[38;5;28;43mself\u001b[39;49m\u001b[38;5;241;43m.\u001b[39;49m\u001b[43mfunction_type\u001b[49m\u001b[38;5;241;43m.\u001b[39;49m\u001b[43mflat_outputs\u001b[49m\u001b[43m)\u001b[49m\u001b[43m,\u001b[49m\n\u001b[1;32m    200\u001b[0m \u001b[43m    \u001b[49m\u001b[43m)\u001b[49m\n\u001b[1;32m    201\u001b[0m   \u001b[38;5;28;01melse\u001b[39;00m:\n\u001b[1;32m    202\u001b[0m     outputs \u001b[38;5;241m=\u001b[39m make_call_op_in_graph(\u001b[38;5;28mself\u001b[39m, \u001b[38;5;28mlist\u001b[39m(args))\n",
            "File \u001b[0;32m~/Documents/projects/personal/notebooks/python/jupyter_python_env/lib/python3.9/site-packages/tensorflow/python/eager/context.py:1457\u001b[0m, in \u001b[0;36mContext.call_function\u001b[0;34m(self, name, tensor_inputs, num_outputs)\u001b[0m\n\u001b[1;32m   1455\u001b[0m cancellation_context \u001b[38;5;241m=\u001b[39m cancellation\u001b[38;5;241m.\u001b[39mcontext()\n\u001b[1;32m   1456\u001b[0m \u001b[38;5;28;01mif\u001b[39;00m cancellation_context \u001b[38;5;129;01mis\u001b[39;00m \u001b[38;5;28;01mNone\u001b[39;00m:\n\u001b[0;32m-> 1457\u001b[0m   outputs \u001b[38;5;241m=\u001b[39m \u001b[43mexecute\u001b[49m\u001b[38;5;241;43m.\u001b[39;49m\u001b[43mexecute\u001b[49m\u001b[43m(\u001b[49m\n\u001b[1;32m   1458\u001b[0m \u001b[43m      \u001b[49m\u001b[43mname\u001b[49m\u001b[38;5;241;43m.\u001b[39;49m\u001b[43mdecode\u001b[49m\u001b[43m(\u001b[49m\u001b[38;5;124;43m\"\u001b[39;49m\u001b[38;5;124;43mutf-8\u001b[39;49m\u001b[38;5;124;43m\"\u001b[39;49m\u001b[43m)\u001b[49m\u001b[43m,\u001b[49m\n\u001b[1;32m   1459\u001b[0m \u001b[43m      \u001b[49m\u001b[43mnum_outputs\u001b[49m\u001b[38;5;241;43m=\u001b[39;49m\u001b[43mnum_outputs\u001b[49m\u001b[43m,\u001b[49m\n\u001b[1;32m   1460\u001b[0m \u001b[43m      \u001b[49m\u001b[43minputs\u001b[49m\u001b[38;5;241;43m=\u001b[39;49m\u001b[43mtensor_inputs\u001b[49m\u001b[43m,\u001b[49m\n\u001b[1;32m   1461\u001b[0m \u001b[43m      \u001b[49m\u001b[43mattrs\u001b[49m\u001b[38;5;241;43m=\u001b[39;49m\u001b[43mattrs\u001b[49m\u001b[43m,\u001b[49m\n\u001b[1;32m   1462\u001b[0m \u001b[43m      \u001b[49m\u001b[43mctx\u001b[49m\u001b[38;5;241;43m=\u001b[39;49m\u001b[38;5;28;43mself\u001b[39;49m\u001b[43m,\u001b[49m\n\u001b[1;32m   1463\u001b[0m \u001b[43m  \u001b[49m\u001b[43m)\u001b[49m\n\u001b[1;32m   1464\u001b[0m \u001b[38;5;28;01melse\u001b[39;00m:\n\u001b[1;32m   1465\u001b[0m   outputs \u001b[38;5;241m=\u001b[39m execute\u001b[38;5;241m.\u001b[39mexecute_with_cancellation(\n\u001b[1;32m   1466\u001b[0m       name\u001b[38;5;241m.\u001b[39mdecode(\u001b[38;5;124m\"\u001b[39m\u001b[38;5;124mutf-8\u001b[39m\u001b[38;5;124m\"\u001b[39m),\n\u001b[1;32m   1467\u001b[0m       num_outputs\u001b[38;5;241m=\u001b[39mnum_outputs,\n\u001b[0;32m   (...)\u001b[0m\n\u001b[1;32m   1471\u001b[0m       cancellation_manager\u001b[38;5;241m=\u001b[39mcancellation_context,\n\u001b[1;32m   1472\u001b[0m   )\n",
            "File \u001b[0;32m~/Documents/projects/personal/notebooks/python/jupyter_python_env/lib/python3.9/site-packages/tensorflow/python/eager/execute.py:53\u001b[0m, in \u001b[0;36mquick_execute\u001b[0;34m(op_name, num_outputs, inputs, attrs, ctx, name)\u001b[0m\n\u001b[1;32m     51\u001b[0m \u001b[38;5;28;01mtry\u001b[39;00m:\n\u001b[1;32m     52\u001b[0m   ctx\u001b[38;5;241m.\u001b[39mensure_initialized()\n\u001b[0;32m---> 53\u001b[0m   tensors \u001b[38;5;241m=\u001b[39m \u001b[43mpywrap_tfe\u001b[49m\u001b[38;5;241;43m.\u001b[39;49m\u001b[43mTFE_Py_Execute\u001b[49m\u001b[43m(\u001b[49m\u001b[43mctx\u001b[49m\u001b[38;5;241;43m.\u001b[39;49m\u001b[43m_handle\u001b[49m\u001b[43m,\u001b[49m\u001b[43m \u001b[49m\u001b[43mdevice_name\u001b[49m\u001b[43m,\u001b[49m\u001b[43m \u001b[49m\u001b[43mop_name\u001b[49m\u001b[43m,\u001b[49m\n\u001b[1;32m     54\u001b[0m \u001b[43m                                      \u001b[49m\u001b[43minputs\u001b[49m\u001b[43m,\u001b[49m\u001b[43m \u001b[49m\u001b[43mattrs\u001b[49m\u001b[43m,\u001b[49m\u001b[43m \u001b[49m\u001b[43mnum_outputs\u001b[49m\u001b[43m)\u001b[49m\n\u001b[1;32m     55\u001b[0m \u001b[38;5;28;01mexcept\u001b[39;00m core\u001b[38;5;241m.\u001b[39m_NotOkStatusException \u001b[38;5;28;01mas\u001b[39;00m e:\n\u001b[1;32m     56\u001b[0m   \u001b[38;5;28;01mif\u001b[39;00m name \u001b[38;5;129;01mis\u001b[39;00m \u001b[38;5;129;01mnot\u001b[39;00m \u001b[38;5;28;01mNone\u001b[39;00m:\n",
            "\u001b[0;31mKeyboardInterrupt\u001b[0m: "
          ]
        }
      ],
      "source": [
        "num_epochs = 20\n",
        "early_stop = EarlyStopping(monitor='val_loss', patience=6, restore_best_weights=True)\n",
        "reduce_lr = ReduceLROnPlateau(monitor='val_loss', factor=0.1, patience=2, min_lr=0.000000001)\n",
        "history = model.fit(\n",
        "    X_tokenized,\n",
        "    project_data.y_train,\n",
        "    epochs=num_epochs,\n",
        "    validation_split=0.2,\n",
        "    callbacks =[early_stop, reduce_lr],\n",
        "    verbose=1\n",
        ")"
      ]
    },
    {
      "cell_type": "code",
      "execution_count": null,
      "id": "ce2a7459",
      "metadata": {
        "id": "ce2a7459"
      },
      "outputs": [],
      "source": [
        "build_validation_graph(history=history, model_name='Dense')"
      ]
    },
    {
      "cell_type": "code",
      "execution_count": null,
      "id": "bbd1bbda",
      "metadata": {
        "id": "bbd1bbda"
      },
      "outputs": [],
      "source": [
        "results = model.evaluate(X_tokenized_test, project_data.y_test)"
      ]
    },
    {
      "cell_type": "markdown",
      "id": "cbd380b8",
      "metadata": {
        "id": "cbd380b8"
      },
      "source": [
        "# Bidirectional LSTM\n",
        "\n",
        "For the second model I will build a Bidirectional LSTM model.\n",
        "This time I will use a Tensorflow encoder, instead of the vectorizer.\n",
        "\n",
        "The parameters I will use will be similar:\n",
        "I also played around with the vocabalury size, max length of the text (truncating the text), the vector size. In order not to underfit I used the adam optimizer with the standard learning rate and some callbacks to adjust the learning rate and implementing early stopping, with different parameters:\n",
        "- Patience set to 6 epochs\n",
        "- Restore best weights to get the best overall results\n",
        "- A factor of 0.1 to decrease learning rate\n",
        "- Patience of 2 epochs for the learning rate adjustment to kick in\n",
        "- A very small learning rate min\n",
        "- Total Epochs = 20\n",
        "\n",
        "I believe the bidirectional LSTM will be better suited for NLP, because it is optimized for taking the context of the text into account.\n",
        "\n",
        "At the beginning I started working with the accuracy for the metrics and this was obviously wrong and didn't work. I switched to AUC, and then everything started to make sense. Another important thing to play around with is the removal of the stop words. I thought the model would behave very differently, but that's not the case. Finally I selected the Bidirectional LSTM model, with stop word removal this can be switched on/off with the Project Data Class implementation parameter."
      ]
    },
    {
      "cell_type": "code",
      "execution_count": null,
      "id": "c9af4d64",
      "metadata": {
        "id": "c9af4d64"
      },
      "outputs": [],
      "source": [
        "gpus.clear()\n",
        "optimizer = Adam(learning_rate=0.001)\n",
        "X_train, y_train, X_test, y_test = project_data.X_train, project_data.y_train, project_data.X_test, project_data.y_test\n",
        "encoder_lstm = build_encoder(X_train, vocab_size, max_len)"
      ]
    },
    {
      "cell_type": "code",
      "execution_count": null,
      "id": "3e5722ef",
      "metadata": {
        "id": "3e5722ef"
      },
      "outputs": [],
      "source": [
        "strategy = tf.distribute.MirroredStrategy(gpus)\n",
        "with strategy.scope():\n",
        "    model_lstm = Sequential()\n",
        "    model_lstm.add(encoder_lstm)\n",
        "    model_lstm.add(Embedding(vocab_size, output_dims, input_length=max_len))\n",
        "    model_lstm.add(Bidirectional(LSTM(max_len, return_sequences=False)))\n",
        "    model_lstm.add(Dense(model_output_dims, activation='sigmoid'))\n",
        "    model_lstm.compile(loss = 'binary_crossentropy', optimizer = optimizer , metrics = [tf.keras.metrics.AUC()])\n",
        "model_lstm.summary()"
      ]
    },
    {
      "cell_type": "code",
      "execution_count": null,
      "id": "38fcc77b",
      "metadata": {
        "id": "38fcc77b"
      },
      "outputs": [],
      "source": [
        "num_epochs = 20\n",
        "early_stop = EarlyStopping(monitor='val_loss', patience=6, restore_best_weights=True)\n",
        "reduce_lr = ReduceLROnPlateau(monitor='val_loss', factor=0.1, patience=2, min_lr=0.000000001)\n",
        "history = model_lstm.fit(\n",
        "    X_train,\n",
        "    y_train,\n",
        "    epochs=num_epochs,\n",
        "    validation_split=0.2,\n",
        "    callbacks =[early_stop, reduce_lr],\n",
        "    verbose=1\n",
        ")"
      ]
    },
    {
      "cell_type": "code",
      "execution_count": null,
      "id": "519d9fcb",
      "metadata": {
        "id": "519d9fcb"
      },
      "outputs": [],
      "source": [
        "results = model_lstm.evaluate(X_test, y_test)"
      ]
    },
    {
      "cell_type": "markdown",
      "id": "05c5c229",
      "metadata": {
        "id": "05c5c229"
      },
      "source": [
        "# Results and Conclusion\n",
        "\n",
        "I got a final AUC score of about 90% which is not perfect but it gives interesting results, I believe a bigger and better balanced dataset, would make the model more robust, but it's good as a start.\n",
        "\n",
        "The biggest takeaways would be having a good selection of vocabulary size, good starting learning rate, and selecting the correct metrics for the loss function.\n",
        "\n",
        "Finally here are some interesting predictions from fake movies generated by ChatGPT, upcoming movies, and classics, since there are not much Music datapoints in the dataset, I included 2, which are not predicted correctly, probably because of the class imbalance also, it was weird that the horror movies were very incorrectly classified as comedy!"
      ]
    },
    {
      "cell_type": "code",
      "execution_count": null,
      "id": "c5ffb01e",
      "metadata": {
        "id": "c5ffb01e"
      },
      "outputs": [],
      "source": [
        "# 10 FAKE MOVIE TITLES AND SYNOPSIS GENERATED BY CHATGPT\n",
        "movie_1 = (\"The Quantum Paradox\", \"In a world where time and space collide, a brilliant physicist must race against the clock to save humanity from a cataclysmic event.\")\n",
        "movie_2 = (\"Galactic Guardians of Pizza\", \"A group of intergalactic pizza delivery drivers find themselves in the middle of an alien war, armed with nothing but pepperoni and mozzarella.\")\n",
        "movie_3 = (\"The Secret Life of Teacups\", \"A whimsical tale where teacups come to life at night, embarking on epic adventures in a quest to find the fabled 'Handle of Destiny'.\")\n",
        "movie_4 = (\"Zombie Prom Night\", \"When the undead rise on prom night, a group of high school students must slow dance, dodge zombies, and try to survive until sunrise.\")\n",
        "movie_5 = (\"The Time-Traveling Barber\", \"A barber discovers that his vintage barber chair is a time machine, and he unintentionally changes history one bad haircut at a time.\")\n",
        "movie_6 = (\"The Singing Spatula\", \"An animated musical adventure featuring a spatula that can sing, cook, and save the day when an evil chef threatens the culinary world.\")\n",
        "movie_7 = (\"Penguins of the Caribbean\", \"A group of swashbuckling penguins sets sail on the high seas, seeking treasure, battling sea monsters, and stealing fish from pirates.\")\n",
        "movie_8 = (\"The Quantum Corgi\", \"A lovable corgi gains the power of quantum teleportation, leading to hilarious escapades as he tries to chase squirrels across dimensions.\")\n",
        "movie_9 = (\"Invisible Detective\", \"A detective gains the power of invisibility and uses it to solve crimes, but he soon discovers that being unseen comes with unexpected consequences.\")\n",
        "movie_10 = (\"Attack of the Killer Garden Gnomes\", \"When garden gnomes come to life and wreak havoc on a suburban neighborhood, a group of unlikely heroes must defend their lawns.\")\n",
        "\n",
        "# IMDB Upcoming releases\n",
        "movie_11 = (\"The Mission\",\"26-year-old American missionary John Chau was killed as he attempted to make contact with an Indigenous group off the coast of India, one of the last communities on the planet still living in isolation.\") # Tagged as Documentary\n",
        "movie_12 = (\"Bhagwan Bharose\",\"A story about two young, impressionable kids whose ideas about faith are constantly questioned and changed as their little world expands and takes into its fold, their country's fast-changing socio-political landscape.\") # Tagged as Comedy, Drama\n",
        "movie_13 = (\"Killers of the Flower Moon\",\"Members of the Osage tribe in the United States are murdered under mysterious circumstances in the 1920s, sparking a major F.B.I. investigation involving J. Edgar Hoover.\") # Tagged as Crime, Drama, History\n",
        "movie_14 = (\"The Other Zoey\",\"Zoey Miller, a super smart computer nerd who is uninterested in romantic love, has her life turned upside down when Zack, the school's soccer star, gets amnesia and mistakes Zoey for his girlfriend.\") # Tagged as Comedy, Drama, Romance\n",
        "movie_15 = (\"The Canterville Ghost\",\"An American family moves in to Canterville Chase, a stately countryside mansion that has been haunted by the ghost Sir Simon De Canterville for 300 years.\") # Tagged as Animation, Comedy\n",
        "movie_16 = (\"Malibu Horror Story\",\"Terror strikes when a team of paranormal investigators search a sacred cave for clues in the unsolved disappearance of four Malibu teens.\") # Tagged as Horror, Thriller\n",
        "movie_17 = (\"Hayride to Hell\",\"A small town farmer exacts his bloody revenge on unscrupulous town folk who try to steal his land.\") # Tagged as Horror\n",
        "# Dune?\n",
        "movie_18 = (\"Dune\", \"Paul Atreides, a brilliant and gifted young man born into a great destiny beyond his understanding, must travel to the most dangerous planet in the universe to ensure the future of his family and his people. As malevolent forces explode into conflict over the planet\\'s exclusive supply of the most precious resource in existence, only those who can conquer their own fear will survive.\")\n",
        "\n",
        "movie_19 = (\"In the Court of the Crimson King: King Crimson at 50\",\"What began as a straightforward documentary about the cult rock band King Crimson as it turned 50, mutated into an exploration of time, death, family, and the transcendent power of music to change lives. But with jokes.\")\n",
        "movie_20 = (\"Rush: Snakes & Arrows - Live in Holland\",\"Filmed over two performances in Rotterdam, Holland in October of 2007, Rush's new program Snakes & Arrows Live captures the legendary band in peak form, performing classic Rush material and nine new songs from their critically acclaimed 2007 program Snakes & Arrows. This program includes bonus footage from their 2008 American tour, including \\\"Ghost of a Chance,\\\" filmed here for the first time.\")\n",
        "movies = [movie_1, movie_2, movie_3, movie_4, movie_5, movie_6, movie_7, movie_8, movie_9, movie_10, movie_11,movie_12,movie_13,movie_14,movie_15,movie_16,movie_17, movie_18, movie_19, movie_20]\n",
        "\n",
        "for (title, synopsis) in movies:\n",
        "    print(f'Title: {title}')\n",
        "    print(f'Synopsis: {synopsis}')\n",
        "    text = project_data.preprocess_test_text(title, synopsis, True)\n",
        "    prediction = model_lstm.predict(text, verbose=0)\n",
        "    genres = project_data.get_prediction_genres(prediction, 0.4)\n",
        "    print(f'Genres: {genres}')\n",
        "    print('\\n')\n"
      ]
    }
  ],
  "metadata": {
    "kernelspec": {
      "display_name": "Python 3 (ipykernel)",
      "language": "python",
      "name": "python3"
    },
    "language_info": {
      "codemirror_mode": {
        "name": "ipython",
        "version": 3
      },
      "file_extension": ".py",
      "mimetype": "text/x-python",
      "name": "python",
      "nbconvert_exporter": "python",
      "pygments_lexer": "ipython3",
      "version": "3.9.13"
    },
    "colab": {
      "provenance": [],
      "include_colab_link": true
    }
  },
  "nbformat": 4,
  "nbformat_minor": 5
}